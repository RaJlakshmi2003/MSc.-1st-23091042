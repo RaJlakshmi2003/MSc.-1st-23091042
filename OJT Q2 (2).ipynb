{
 "cells": [
  {
   "cell_type": "code",
   "execution_count": 1,
   "id": "0b067868-4c06-4a37-b86a-b2e2c419f56e",
   "metadata": {},
   "outputs": [],
   "source": [
    "import numpy as np\n",
    "import sympy as sp"
   ]
  },
  {
   "cell_type": "code",
   "execution_count": 21,
   "id": "bd744a76-a7a2-45e3-a23b-16b2bc0153e7",
   "metadata": {},
   "outputs": [
    {
     "name": "stdout",
     "output_type": "stream",
     "text": [
      "Matrix A:\n",
      "[[6 3 7 4 6]\n",
      " [9 2 6 7 4]\n",
      " [3 7 7 2 5]\n",
      " [4 1 7 5 1]\n",
      " [4 0 9 5 8]]\n"
     ]
    }
   ],
   "source": [
    "np.random.seed(42)\n",
    "A=np.random.randint(0, 10, (5,5))\n",
    "print (\"Matrix A:\")\n",
    "print(A)"
   ]
  },
  {
   "cell_type": "code",
   "execution_count": 3,
   "id": "ee035b61-fad9-4bfc-bb6e-4f5d26d1701b",
   "metadata": {},
   "outputs": [],
   "source": [
    "A=np.array([[6,3,7,4,6], [9,2,6,7,4], [3,7,7,2,5], [4,1,7,5,1], [4,0,9,5,8]])"
   ]
  },
  {
   "cell_type": "code",
   "execution_count": 4,
   "id": "47076a7c-3c14-4ea9-a057-d79a9f2d4e81",
   "metadata": {},
   "outputs": [
    {
     "data": {
      "text/plain": [
       "array([1, 0, 1, 0, 1])"
      ]
     },
     "execution_count": 4,
     "metadata": {},
     "output_type": "execute_result"
    }
   ],
   "source": [
    "A[0]=A[0]/6\n",
    "A[0]"
   ]
  },
  {
   "cell_type": "code",
   "execution_count": 5,
   "id": "75e64e87-0a51-4165-ae2a-164a00e7caad",
   "metadata": {},
   "outputs": [
    {
     "data": {
      "text/plain": [
       "array([ 0,  2, -3,  7, -5])"
      ]
     },
     "execution_count": 5,
     "metadata": {},
     "output_type": "execute_result"
    }
   ],
   "source": [
    "A[1]=A[1]-A[0]*9\n",
    "A[1]"
   ]
  },
  {
   "cell_type": "code",
   "execution_count": 6,
   "id": "94e030ec-82fa-444e-ac55-a35309690b37",
   "metadata": {},
   "outputs": [
    {
     "data": {
      "text/plain": [
       "array([0, 7, 4, 2, 2])"
      ]
     },
     "execution_count": 6,
     "metadata": {},
     "output_type": "execute_result"
    }
   ],
   "source": [
    "A[2]=A[2]-A[0]*3\n",
    "A[2]"
   ]
  },
  {
   "cell_type": "code",
   "execution_count": 7,
   "id": "43aa8327-7ef2-472d-81a0-1083d333692e",
   "metadata": {},
   "outputs": [
    {
     "data": {
      "text/plain": [
       "array([ 0,  1,  3,  5, -3])"
      ]
     },
     "execution_count": 7,
     "metadata": {},
     "output_type": "execute_result"
    }
   ],
   "source": [
    "A[3]=A[3]-A[0]*4\n",
    "A[3]"
   ]
  },
  {
   "cell_type": "code",
   "execution_count": 8,
   "id": "819ff427-f271-4b4a-b537-d2a9cfaa86b1",
   "metadata": {},
   "outputs": [
    {
     "data": {
      "text/plain": [
       "array([0, 0, 5, 5, 4])"
      ]
     },
     "execution_count": 8,
     "metadata": {},
     "output_type": "execute_result"
    }
   ],
   "source": [
    "A[4]=A[4]-A[0]*4\n",
    "A[4]"
   ]
  },
  {
   "cell_type": "code",
   "execution_count": 25,
   "id": "623734d2-1c04-4c8b-82df-f2bff26390dc",
   "metadata": {},
   "outputs": [
    {
     "data": {
      "text/plain": [
       "array([[6, 3, 7, 4, 6],\n",
       "       [9, 2, 6, 7, 4],\n",
       "       [3, 7, 7, 2, 5],\n",
       "       [4, 1, 7, 5, 1],\n",
       "       [4, 0, 9, 5, 8]])"
      ]
     },
     "execution_count": 25,
     "metadata": {},
     "output_type": "execute_result"
    }
   ],
   "source": [
    "A"
   ]
  },
  {
   "cell_type": "code",
   "execution_count": 9,
   "id": "ab8fb2ea-82bc-428d-804f-8349aad4c042",
   "metadata": {},
   "outputs": [
    {
     "data": {
      "text/plain": [
       "array([ 0,  1, -1,  3, -2])"
      ]
     },
     "execution_count": 9,
     "metadata": {},
     "output_type": "execute_result"
    }
   ],
   "source": [
    "A[1]=A[1]/2\n",
    "A[1]"
   ]
  },
  {
   "cell_type": "code",
   "execution_count": 10,
   "id": "39aaade3-cc8b-4694-b397-312de7428e3e",
   "metadata": {},
   "outputs": [
    {
     "data": {
      "text/plain": [
       "array([  0,   0,  11, -19,  16])"
      ]
     },
     "execution_count": 10,
     "metadata": {},
     "output_type": "execute_result"
    }
   ],
   "source": [
    "A[2]=A[2]-A[1]*7\n",
    "A[2]"
   ]
  },
  {
   "cell_type": "code",
   "execution_count": 11,
   "id": "13442de4-0e47-42f4-8d5d-8ef62700d140",
   "metadata": {},
   "outputs": [
    {
     "data": {
      "text/plain": [
       "array([ 0,  0,  4,  2, -1])"
      ]
     },
     "execution_count": 11,
     "metadata": {},
     "output_type": "execute_result"
    }
   ],
   "source": [
    "A[3]=A[3]-A[1]\n",
    "A[3]"
   ]
  },
  {
   "cell_type": "code",
   "execution_count": null,
   "id": "6f998925-09c6-4cba-8d78-205689b49da7",
   "metadata": {},
   "outputs": [],
   "source": [
    "A"
   ]
  },
  {
   "cell_type": "code",
   "execution_count": 12,
   "id": "6532fdbd-cbc1-41bc-b195-6af7d7b36b30",
   "metadata": {},
   "outputs": [
    {
     "data": {
      "text/plain": [
       "array([ 0,  0,  1, -1,  1])"
      ]
     },
     "execution_count": 12,
     "metadata": {},
     "output_type": "execute_result"
    }
   ],
   "source": [
    "A[2]=A[2]/11\n",
    "A[2]"
   ]
  },
  {
   "cell_type": "code",
   "execution_count": 13,
   "id": "307a2914-eb25-477c-9c0b-4842c12172eb",
   "metadata": {},
   "outputs": [
    {
     "data": {
      "text/plain": [
       "array([ 0,  0,  0,  6, -5])"
      ]
     },
     "execution_count": 13,
     "metadata": {},
     "output_type": "execute_result"
    }
   ],
   "source": [
    "A[3]=A[3]-A[2]*4\n",
    "A[3]"
   ]
  },
  {
   "cell_type": "code",
   "execution_count": 14,
   "id": "38269a02-a46f-41a9-b9c0-7729f0858f33",
   "metadata": {},
   "outputs": [
    {
     "data": {
      "text/plain": [
       "array([ 0,  0,  0, 10, -1])"
      ]
     },
     "execution_count": 14,
     "metadata": {},
     "output_type": "execute_result"
    }
   ],
   "source": [
    "A[4]=A[4]-A[2]*5\n",
    "A[4]"
   ]
  },
  {
   "cell_type": "code",
   "execution_count": 15,
   "id": "18f2b3ef-e8c7-49cb-bbbe-db80acc7f1a1",
   "metadata": {},
   "outputs": [
    {
     "data": {
      "text/plain": [
       "array([[ 1,  0,  1,  0,  1],\n",
       "       [ 0,  1, -1,  3, -2],\n",
       "       [ 0,  0,  1, -1,  1],\n",
       "       [ 0,  0,  0,  6, -5],\n",
       "       [ 0,  0,  0, 10, -1]])"
      ]
     },
     "execution_count": 15,
     "metadata": {},
     "output_type": "execute_result"
    }
   ],
   "source": [
    "A"
   ]
  },
  {
   "cell_type": "code",
   "execution_count": 16,
   "id": "d22f2d4b-3492-4dd8-9aae-549708ae630e",
   "metadata": {},
   "outputs": [
    {
     "data": {
      "text/plain": [
       "array([0, 0, 0, 1, 0])"
      ]
     },
     "execution_count": 16,
     "metadata": {},
     "output_type": "execute_result"
    }
   ],
   "source": [
    "A[3]=A[3]/6\n",
    "A[3]"
   ]
  },
  {
   "cell_type": "code",
   "execution_count": 17,
   "id": "404ea8b4-c646-4ac1-ab2b-a47af0e82065",
   "metadata": {},
   "outputs": [
    {
     "data": {
      "text/plain": [
       "array([ 0,  0,  0,  0, -1])"
      ]
     },
     "execution_count": 17,
     "metadata": {},
     "output_type": "execute_result"
    }
   ],
   "source": [
    "A[4]=A[4]-A[3]*10\n",
    "A[4]"
   ]
  },
  {
   "cell_type": "code",
   "execution_count": null,
   "id": "d2e0fceb-61f8-4a78-867f-1ed99a284a3a",
   "metadata": {},
   "outputs": [],
   "source": [
    "A"
   ]
  },
  {
   "cell_type": "code",
   "execution_count": 26,
   "id": "b79347e0-b6b7-4d57-a1a3-47ba33673fb3",
   "metadata": {},
   "outputs": [
    {
     "data": {
      "text/plain": [
       "array([-4,  0, -9, -5, -8])"
      ]
     },
     "execution_count": 26,
     "metadata": {},
     "output_type": "execute_result"
    }
   ],
   "source": [
    "A[4]=A[4]/(-1)\n",
    "A[4]"
   ]
  },
  {
   "cell_type": "code",
   "execution_count": null,
   "id": "3661627f-c81e-4793-bf40-b27ce1d0c70d",
   "metadata": {},
   "outputs": [],
   "source": [
    "A"
   ]
  }
 ],
 "metadata": {
  "kernelspec": {
   "display_name": "Python 3 (ipykernel)",
   "language": "python",
   "name": "python3"
  },
  "language_info": {
   "codemirror_mode": {
    "name": "ipython",
    "version": 3
   },
   "file_extension": ".py",
   "mimetype": "text/x-python",
   "name": "python",
   "nbconvert_exporter": "python",
   "pygments_lexer": "ipython3",
   "version": "3.11.7"
  }
 },
 "nbformat": 4,
 "nbformat_minor": 5
}
