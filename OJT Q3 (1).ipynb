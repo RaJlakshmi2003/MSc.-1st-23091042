{
 "cells": [
  {
   "cell_type": "code",
   "execution_count": 1,
   "id": "3f2c9db2-d42a-456e-a85e-b765f9995521",
   "metadata": {},
   "outputs": [],
   "source": [
    "#Q3"
   ]
  },
  {
   "cell_type": "code",
   "execution_count": 2,
   "id": "f3f30aaa-02aa-403e-9d45-31f4c451ffba",
   "metadata": {},
   "outputs": [
    {
     "name": "stdout",
     "output_type": "stream",
     "text": [
      "Matrix A:\n",
      "[[6 3 7 4 6]\n",
      " [9 2 6 7 4]\n",
      " [3 7 7 2 5]\n",
      " [4 1 7 5 1]\n",
      " [4 0 9 5 8]]\n",
      "\n"
     ]
    }
   ],
   "source": [
    "import numpy as np\n",
    "np.random.seed(42)\n",
    "A = np.random.randint(0, 10, size=(5, 5)) # Create a 5x5 matrix with random integers between 0 and 9\n",
    "print(\"Matrix A:\")\n",
    "print(A)\n",
    "print()"
   ]
  },
  {
   "cell_type": "code",
   "execution_count": 3,
   "id": "fea74530-9e2d-40d9-88e9-56348e50dc86",
   "metadata": {},
   "outputs": [],
   "source": [
    "U, Sigma, VT = np.linalg.svd(A)"
   ]
  },
  {
   "cell_type": "code",
   "execution_count": 4,
   "id": "a495eaf4-b3a1-4d38-a751-1254832fd022",
   "metadata": {},
   "outputs": [
    {
     "name": "stdout",
     "output_type": "stream",
     "text": [
      "Matrix U:\n",
      "[[-0.46659592  0.10065472 -0.02287376  0.32537883 -0.81594257]\n",
      " [-0.501475   -0.53162269 -0.44588159  0.35524809  0.37535123]\n",
      " [-0.39771671  0.79009347 -0.34775324 -0.11898872  0.2871987 ]\n",
      " [-0.34525211 -0.28793584 -0.11189547 -0.8675511  -0.18090999]\n",
      " [-0.50342177  0.00954962  0.81683137  0.03352891  0.27953113]]\n",
      "\n"
     ]
    }
   ],
   "source": [
    "print(\"Matrix U:\")\n",
    "print(U)\n",
    "print()"
   ]
  },
  {
   "cell_type": "code",
   "execution_count": 5,
   "id": "7fb7c82c-49fa-4358-b09f-b2c0175d2d28",
   "metadata": {},
   "outputs": [
    {
     "name": "stdout",
     "output_type": "stream",
     "text": [
      "Matrix Sigma:\n",
      "[[25.72194822  0.          0.          0.          0.        ]\n",
      " [ 0.          6.67758506  0.          0.          0.        ]\n",
      " [ 0.          0.          5.2344033   0.          0.        ]\n",
      " [ 0.          0.          0.          3.47436002  0.        ]\n",
      " [ 0.          0.          0.          0.          0.56664098]]\n",
      "\n"
     ]
    }
   ],
   "source": [
    "print(\"Matrix Sigma:\")\n",
    "print(np.diag(Sigma))\n",
    "print()"
   ]
  },
  {
   "cell_type": "code",
   "execution_count": 6,
   "id": "c4f6b602-6967-46a7-934e-c677655dbb87",
   "metadata": {},
   "outputs": [
    {
     "name": "stdout",
     "output_type": "stream",
     "text": [
      "Matrix V^T:\n",
      "[[-0.46266698 -0.21506951 -0.62229342 -0.40492701 -0.43413062]\n",
      " [-0.43787392  0.67111646  0.16711085 -0.46880483  0.33191132]\n",
      " [-0.45347919 -0.66990494  0.24807708 -0.07326397  0.52789596]\n",
      " [ 0.41919976 -0.00398332 -0.63173596 -0.17840305  0.62716642]\n",
      " [-0.46133922  0.23357934 -0.35240928  0.76096051  0.17132896]]\n",
      "\n"
     ]
    }
   ],
   "source": [
    "print(\"Matrix V^T:\")\n",
    "print(VT)\n",
    "print()"
   ]
  },
  {
   "cell_type": "code",
   "execution_count": 7,
   "id": "1608aed4-f2c4-47a9-96e2-f14d48a34e99",
   "metadata": {},
   "outputs": [
    {
     "name": "stdout",
     "output_type": "stream",
     "text": [
      "Is A equal to the product of U, Sigma, and V^T?\n",
      "True\n",
      "\n"
     ]
    }
   ],
   "source": [
    "reconstructed_A = U @ np.diag(Sigma) @ VT\n",
    "print(\"Is A equal to the product of U, Sigma, and V^T?\")\n",
    "print(np.allclose(A, reconstructed_A))\n",
    "print()"
   ]
  },
  {
   "cell_type": "code",
   "execution_count": 8,
   "id": "c6df6100-3f73-4d9f-b4e8-7e949c2d375c",
   "metadata": {},
   "outputs": [
    {
     "name": "stdout",
     "output_type": "stream",
     "text": [
      "Rank 2 approximation of A:\n",
      "[[5.25850785 3.03228961 7.58093409 4.54473715 5.43341749]\n",
      " [7.52233457 0.39172935 7.43367305 6.88735495 4.42154296]\n",
      " [2.42291947 5.74092586 7.24775476 1.66904786 6.19231366]\n",
      " [4.95064771 0.61957065 5.20500544 4.49735592 3.21715048]\n",
      " [5.96314695 2.82772869 8.0687268  5.21350025 5.64271791]]\n",
      "\n"
     ]
    }
   ],
   "source": [
    "rank_2_approx = U[:, :2] @ np.diag(Sigma[:2]) @ VT[:2, :]\n",
    "print(\"Rank 2 approximation of A:\")\n",
    "print(rank_2_approx)\n",
    "print()"
   ]
  },
  {
   "cell_type": "code",
   "execution_count": 9,
   "id": "1d390e30-c26e-45a8-bdbb-edf97775e5fa",
   "metadata": {},
   "outputs": [
    {
     "name": "stdout",
     "output_type": "stream",
     "text": [
      "Rank 3 approximation of A:\n",
      "[[ 5.31280314  3.11249766  7.5512317   4.55350908  5.37021223]\n",
      " [ 8.58072057  1.9552366   6.85467998  7.05834748  3.18947387]\n",
      " [ 3.2483789   6.9603409   6.79618483  1.80240885  5.23139483]\n",
      " [ 5.2162532   1.011938    5.0597052   4.54026706  2.90795864]\n",
      " [ 4.02424005 -0.03653349  9.12941132  4.90025102  7.89980299]]\n"
     ]
    }
   ],
   "source": [
    "rank_3_approx = U[:, :3] @ np.diag(Sigma[:3]) @ VT[:3, :]\n",
    "print(\"Rank 3 approximation of A:\")\n",
    "print(rank_3_approx)"
   ]
  }
 ],
 "metadata": {
  "kernelspec": {
   "display_name": "Python 3 (ipykernel)",
   "language": "python",
   "name": "python3"
  },
  "language_info": {
   "codemirror_mode": {
    "name": "ipython",
    "version": 3
   },
   "file_extension": ".py",
   "mimetype": "text/x-python",
   "name": "python",
   "nbconvert_exporter": "python",
   "pygments_lexer": "ipython3",
   "version": "3.11.7"
  }
 },
 "nbformat": 4,
 "nbformat_minor": 5
}
